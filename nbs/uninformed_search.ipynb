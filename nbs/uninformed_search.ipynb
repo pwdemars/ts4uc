{
 "cells": [
  {
   "cell_type": "markdown",
   "id": "transsexual-recovery",
   "metadata": {},
   "source": [
    "# Tree Search Algorithms\n",
    "\n",
    "In this notebook we will implement some of the tree search algorithms that are discussed in Russell and Norvig. \n",
    "\n",
    "I would initially like to implement the following uniformed algorithms, which do not rely on any heuristics:\n",
    "\n",
    "- [x] Breadth-First Search \n",
    "- [x] Depth-First Search\n",
    "- [x] Uniform-Cost Search\n",
    "\n",
    "Here I will redefine the Node classes, rather than take them from `node.py`. This should be a much more minimal implementation. "
   ]
  },
  {
   "cell_type": "markdown",
   "id": "proprietary-piano",
   "metadata": {},
   "source": [
    "### Imports"
   ]
  },
  {
   "cell_type": "code",
   "execution_count": 1,
   "id": "spare-forge",
   "metadata": {},
   "outputs": [],
   "source": [
    "from rl4uc.environment import make_env\n",
    "\n",
    "import numpy as np\n",
    "import pandas as pd\n",
    "import itertools\n",
    "import copy\n",
    "import queue"
   ]
  },
  {
   "cell_type": "markdown",
   "id": "ambient-front",
   "metadata": {},
   "source": [
    "### Node class\n",
    "\n",
    "R&N say that a node needs the following attributes:\n",
    "\n",
    "- State: the state of the environment that the node corresponds to\n",
    "- Parent: the parent node in the search tree\n",
    "- Action: the action used to get from parent to the current node\n",
    "- Path cost: the cost of reaching the current node\n",
    "\n",
    "In our case, we will consider that there are only unique paths to each node. \n",
    "\n",
    "*Note: `env` and `state` are used somewhat interchangeably in these functions. An env object represents a state, but also includes the transition dynamics. Hence, we will usually pass `env` as an argument rather than state.*\n"
   ]
  },
  {
   "cell_type": "code",
   "execution_count": 2,
   "id": "above-humor",
   "metadata": {},
   "outputs": [],
   "source": [
    "class Node(object):\n",
    "    def __init__(self, env, parent, action, action_id, path_cost):\n",
    "        self.state = env\n",
    "        self.parent = parent\n",
    "        self.action = action\n",
    "        self.action_id = action_id\n",
    "        self.path_cost = path_cost\n",
    "        self.is_expanded = False"
   ]
  },
  {
   "cell_type": "markdown",
   "id": "starting-bulgarian",
   "metadata": {},
   "source": [
    "In addition, we will need some other general functions for our tree search algorithms. \n",
    "\n",
    "The first is `get_actions(env)` which returns the set of applicable actions from `env`. *Note: this function is where any guided tree search should be implemented. If we have an expansion policy, it can be used here to reduce the set of applicable actions.*"
   ]
  },
  {
   "cell_type": "code",
   "execution_count": 3,
   "id": "prescribed-estonia",
   "metadata": {},
   "outputs": [],
   "source": [
    "def get_actions(env):\n",
    "    \"\"\"Get all applicable actions from the `env` state\"\"\"\n",
    "    constrained_gens = np.where(np.logical_or(env.must_on, env.must_off))\n",
    "    unconstrained_gens = np.delete(np.arange(env.num_gen), constrained_gens)\n",
    "\n",
    "    # All permutations of available generators\n",
    "    all_perms = np.array(list(itertools.product(range(2), repeat=unconstrained_gens.size)))\n",
    "\n",
    "    # Create action array \n",
    "    actions = np.zeros((all_perms.shape[0], env.num_gen))\n",
    "    actions[:,constrained_gens] = env.commitment[constrained_gens]\n",
    "    actions[:,unconstrained_gens] = all_perms\n",
    "    \n",
    "    return actions"
   ]
  },
  {
   "cell_type": "markdown",
   "id": "systematic-charity",
   "metadata": {},
   "source": [
    "Next we need a function for generating a child node. This takes a node as input, and outputs a child node with `node` as its parent. *Note: this is where, for stochastic reward functions, we may want to try and estimate the expected reward by considering possible scenarios.*"
   ]
  },
  {
   "cell_type": "code",
   "execution_count": 4,
   "id": "potential-booking",
   "metadata": {},
   "outputs": [],
   "source": [
    "def get_child_node(node, action, deterministic=True):\n",
    "    \"\"\"\n",
    "    Return a child node corresponding to taking `action` from the state \n",
    "    corresponding to `node`.\n",
    "    \n",
    "    The child node has `node` as its parent.\n",
    "    \"\"\"\n",
    "    action_id = ''.join(str(int(i)) for i in action)\n",
    "    action_id = int(action_id, 2)\n",
    "\n",
    "    new_env = copy.deepcopy(node.state)\n",
    "    _, reward, _ = new_env.step(action, deterministic=deterministic)\n",
    "    cost = -reward\n",
    "\n",
    "    child = Node(env=new_env,\n",
    "                parent=node,\n",
    "                action=action, \n",
    "                action_id=action_id,\n",
    "                path_cost = node.path_cost + cost)\n",
    "    \n",
    "    return child"
   ]
  },
  {
   "cell_type": "markdown",
   "id": "special-gather",
   "metadata": {},
   "source": [
    "After we have found our final leaf node, we need to get out the solution. This recursively traverses the tree to the leaf, and returns the list of actions of the solution path."
   ]
  },
  {
   "cell_type": "code",
   "execution_count": 5,
   "id": "supreme-supplier",
   "metadata": {},
   "outputs": [],
   "source": [
    "def get_solution(node):\n",
    "    \"\"\"Return the solution path (list of actions) leading to node.\"\"\"\n",
    "    s = []\n",
    "    path_cost = node.path_cost\n",
    "    while node.parent is not None:\n",
    "        s.insert(0, node.action)\n",
    "        node = node.parent\n",
    "    return s, path_cost"
   ]
  },
  {
   "cell_type": "markdown",
   "id": "junior-manufacturer",
   "metadata": {},
   "source": [
    "Finally, let's implement a function for testing any version. It should return the solution path and the path cost. "
   ]
  },
  {
   "cell_type": "code",
   "execution_count": 15,
   "id": "bridal-annual",
   "metadata": {},
   "outputs": [],
   "source": [
    "def test(tree_search_func,\n",
    "         num_gen=5,\n",
    "         problem_fn='../data/day_ahead/5gen/30min/profile_2017-06-25.csv',\n",
    "         periods=3):\n",
    "    \"\"\"Test a tree search algorithm.\"\"\"\n",
    "    df = pd.read_csv(problem_fn)[:periods]\n",
    "    env = make_env(mode='test', profiles_df=df, num_gen=num_gen)\n",
    "    env.reset()\n",
    "    solution = tree_search_func(env)\n",
    "    return solution\n",
    "    "
   ]
  },
  {
   "cell_type": "markdown",
   "id": "consecutive-church",
   "metadata": {},
   "source": [
    "### General Tree Search Algorithm\n",
    "\n",
    "Let's begin by defining a general tree search algorithm, as in R&N (Figure 3.7).\n",
    "\n",
    "The general tree search algorithm looks something like this:\n",
    "\n",
    "`Initialise the frontier as a queue\n",
    "Loop:\n",
    "  if the frontier is empty: return failure\n",
    "  choose a leaf node from the frontier (and remove it)\n",
    "  if the node contains a goal state then return the corresponding solution\n",
    "  expand the chosen node and add the results to the frontier\n",
    "`\n",
    "\n",
    "Note that since we are dealing with trees not graphs, we do not need to keep track of explored nodes. This simplifies things in terms of memory requirements, as we only need to keep track of the frontier. "
   ]
  },
  {
   "cell_type": "markdown",
   "id": "expensive-solid",
   "metadata": {},
   "source": [
    "### Breadth-First Search\n",
    "\n",
    "The first algorithm we will look at is breadth-first search (BFS).\n",
    "\n",
    "R&N: \n",
    "\n",
    "> BFS is a simple strategy in which the root node is expanded first, then all the successors of the root node are expanded next, then *their* successors, and so on.*\n",
    "\n",
    "BFS uses a first-in, first-out (FIFO) queue for the frontier and prioritises the shallowest nodes to expand. It therefore finds the quickest route to the bottom of the tree, and will find the optimal path if all step costs are uniform."
   ]
  },
  {
   "cell_type": "code",
   "execution_count": 16,
   "id": "assumed-mobile",
   "metadata": {},
   "outputs": [],
   "source": [
    "def bfs(env):\n",
    "    \"\"\"Breadth first search\"\"\"\n",
    "    node = Node(env=env,\n",
    "                parent=None,\n",
    "                action=None,\n",
    "                action_id=None,\n",
    "                path_cost=0)\n",
    "    if node.state.is_terminal():\n",
    "        return get_solution(node)\n",
    "    frontier = queue.SimpleQueue() # FIFO \n",
    "    frontier.put(node)\n",
    "    while True:\n",
    "        assert frontier, \"Failed to find a goal state\"\n",
    "        node = frontier.get()\n",
    "        for action in get_actions(node.state):\n",
    "            child = get_child_node(node, action)\n",
    "            if child.state.is_terminal():\n",
    "                return get_solution(child)\n",
    "            frontier.put(child)\n",
    "            "
   ]
  },
  {
   "cell_type": "code",
   "execution_count": 17,
   "id": "representative-hollow",
   "metadata": {},
   "outputs": [
    {
     "name": "stdout",
     "output_type": "stream",
     "text": [
      "Path: [array([0., 0., 0., 0., 0.]), array([0., 0., 0., 0., 0.]), array([0., 0., 0., 0., 0.])]\n",
      "Cost: 5669431.643323701\n",
      "CPU times: user 231 ms, sys: 8.01 ms, total: 239 ms\n",
      "Wall time: 255 ms\n"
     ]
    }
   ],
   "source": [
    "%%time\n",
    "path, path_cost = test(bfs)\n",
    "print(\"Path: {}\".format(path))\n",
    "print(\"Cost: {}\".format(path_cost))\n"
   ]
  },
  {
   "cell_type": "markdown",
   "id": "middle-configuration",
   "metadata": {},
   "source": [
    "While I have chosen to include this algorithm for completeness, it doesn't serve our purposes at all. A goal state is any terminal state in our problem definition. As a result, BFS will just find the shallowest node, irrespective of cost. Note that the `path_cost` doesn't appear at all in the algorithm. We can verify this by seeing that we end up with a bogus solution: keep everything off. This is chosen as it is the first action that is generated in `get_child_node()`. "
   ]
  },
  {
   "cell_type": "markdown",
   "id": "comparative-chambers",
   "metadata": {},
   "source": [
    "### Depth-First Search\n",
    "\n",
    "Depth-first search always chooses the deepest node to expand. Its implementation is exactly the same as BFS, except it uses a last-in, first-out queue (LIFO). "
   ]
  },
  {
   "cell_type": "code",
   "execution_count": 18,
   "id": "immediate-parameter",
   "metadata": {},
   "outputs": [],
   "source": [
    "def dfs(env):\n",
    "    \"\"\"Breadth first search\"\"\"\n",
    "    node = Node(env=env,\n",
    "                parent=None,\n",
    "                action=None,\n",
    "                action_id=None,\n",
    "                path_cost=0)\n",
    "    if node.state.is_terminal():\n",
    "        return get_solution(node)\n",
    "    frontier = queue.LifoQueue()\n",
    "    frontier.put(node)\n",
    "    while True:\n",
    "        assert frontier, \"Failed to find a goal state\"\n",
    "        node = frontier.get()\n",
    "        for action in get_actions(node.state):\n",
    "            child = get_child_node(node, action)\n",
    "            if child.state.is_terminal():\n",
    "                return get_solution(child)\n",
    "            frontier.put(child)"
   ]
  },
  {
   "cell_type": "code",
   "execution_count": 19,
   "id": "configured-fundamentals",
   "metadata": {},
   "outputs": [
    {
     "name": "stdout",
     "output_type": "stream",
     "text": [
      "Path: [array([1., 1., 1., 1., 1.]), array([1., 1., 1., 1., 1.]), array([0., 1., 1., 1., 0.])]\n",
      "Cost: 17115.763001348703\n",
      "CPU times: user 40.7 ms, sys: 4.49 ms, total: 45.2 ms\n",
      "Wall time: 43 ms\n"
     ]
    }
   ],
   "source": [
    "%%time\n",
    "path, path_cost = test(dfs)\n",
    "print(\"Path: {}\".format(path))\n",
    "print(\"Cost: {}\".format(path_cost))"
   ]
  },
  {
   "cell_type": "markdown",
   "id": "ignored-geometry",
   "metadata": {},
   "source": [
    "Much like BFS, this search does not consider the path cost at all and is not optimal."
   ]
  },
  {
   "cell_type": "markdown",
   "id": "pacific-twins",
   "metadata": {},
   "source": [
    "### Uniform-Cost Search\n",
    "\n",
    "We will now look at a simple tree search algorithm which does consider the path cost. Uniform cost search stores the frontier as a *priority queue*. The priority queue orders nodes in the frontier by their path cost. When we take a node from the frontier, we always take the lowest cost one.\n",
    "\n",
    "R&N also notes another significant differences between BFS and uniform-cost search: \n",
    "\n",
    "- The goal test is applied to a node when it is selected for expansion, rather than when it is first generated). This prevents the algorithm terminating on the first goal state it finds, which could be on a suboptimal path. This modification thus ensures optimality. \n",
    "\n",
    "*Note: one other difference is also mentioned, which refers to the case where the state already appears in the frontier with higher path cost. However, this is not applicable to our problem, where the states only ever appear once on the tree.*"
   ]
  },
  {
   "cell_type": "code",
   "execution_count": 20,
   "id": "referenced-culture",
   "metadata": {},
   "outputs": [],
   "source": [
    "def uniform_cost_search(env):\n",
    "    \"\"\"Uniform cost search\"\"\"\n",
    "    node = Node(env=env,\n",
    "                parent=None,\n",
    "                action=None,\n",
    "                action_id=None,\n",
    "                path_cost=0)\n",
    "    if node.state.is_terminal():\n",
    "        return get_solution(node)\n",
    "    frontier = queue.PriorityQueue()\n",
    "    frontier.put((0, id(node), node)) # include the object id in the priority queue. prevents type error when path_costs are identical.\n",
    "    while True:\n",
    "        assert frontier, \"Failed to find a goal state\"\n",
    "        node = frontier.get()[2]\n",
    "        if node.state.is_terminal():\n",
    "            return get_solution(node)\n",
    "        for action in get_actions(node.state):\n",
    "            child = get_child_node(node, action)\n",
    "            frontier.put((child.path_cost, id(child), child))"
   ]
  },
  {
   "cell_type": "code",
   "execution_count": 21,
   "id": "increased-balloon",
   "metadata": {},
   "outputs": [
    {
     "name": "stdout",
     "output_type": "stream",
     "text": [
      "Path: [array([1., 0., 0., 0., 0.]), array([1., 0., 0., 0., 0.]), array([1., 0., 0., 0., 0.])]\n",
      "Cost: 14120.666698099025\n",
      "CPU times: user 667 ms, sys: 14.7 ms, total: 682 ms\n",
      "Wall time: 693 ms\n"
     ]
    }
   ],
   "source": [
    "%%time\n",
    "path, path_cost = test(uniform_cost_search)\n",
    "print(\"Path: {}\".format(path))\n",
    "print(\"Cost: {}\".format(path_cost))"
   ]
  },
  {
   "cell_type": "markdown",
   "id": "proud-george",
   "metadata": {},
   "source": [
    "Compared with BFS, this is clearly far preferable in the sense that it does find the least cost path for our problem."
   ]
  }
 ],
 "metadata": {
  "kernelspec": {
   "display_name": "Python 3",
   "language": "python",
   "name": "python3"
  },
  "language_info": {
   "codemirror_mode": {
    "name": "ipython",
    "version": 3
   },
   "file_extension": ".py",
   "mimetype": "text/x-python",
   "name": "python",
   "nbconvert_exporter": "python",
   "pygments_lexer": "ipython3",
   "version": "3.9.2"
  }
 },
 "nbformat": 4,
 "nbformat_minor": 5
}
